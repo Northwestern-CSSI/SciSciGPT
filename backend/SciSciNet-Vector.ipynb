{
 "cells": [
  {
   "cell_type": "code",
   "execution_count": null,
   "id": "51610747",
   "metadata": {},
   "outputs": [],
   "source": [
    "import pandas as pd\n",
    "import datasets\n",
    "import tqdm, os\n",
    "from collections.abc import Iterable\n",
    "from langchain_core.documents.base import Document\n",
    "\n",
    "from datetime import datetime\n",
    "from copy import deepcopy\n",
    "\n",
    "from dotenv import load_dotenv\n",
    "load_dotenv()\n",
    "\n",
    "huggingface_path = 'ErzhuoShao/SciSciGPT-SciSciNet'\n",
    "revision = 'ef5553f34410575c8cab8ad209a7b11a4253b2b6'"
   ]
  },
  {
   "cell_type": "code",
   "execution_count": null,
   "id": "85717e9c",
   "metadata": {},
   "outputs": [],
   "source": [
    "from datasets import load_dataset\n",
    "fields = load_dataset(\n",
    "\thuggingface_path, revision=revision, split=\"train\", \n",
    "\tdata_files=\"fields.parquet\"\n",
    ").to_pandas()\n",
    "\n",
    "institutions = load_dataset(\n",
    "\thuggingface_path, revision=revision, split=\"train\", \n",
    "\tdata_files=\"institutions.parquet\"\n",
    ").to_pandas()"
   ]
  },
  {
   "cell_type": "code",
   "execution_count": null,
   "id": "58a563a7",
   "metadata": {},
   "outputs": [],
   "source": [
    "from pinecone import Pinecone\n",
    "pc = Pinecone()\n",
    "index = pc.Index(os.getenv(\"NAME_SEARCH_INDEX\"))\n",
    "\n",
    "from langchain_openai import OpenAIEmbeddings\n",
    "embeddings = OpenAIEmbeddings(model=\"text-embedding-3-small\")"
   ]
  },
  {
   "cell_type": "code",
   "execution_count": null,
   "id": "d6b94456",
   "metadata": {},
   "outputs": [],
   "source": [
    "names = institutions[\"institution_name\"].tolist()\n",
    "embedding_list = []\n",
    "for i in tqdm.trange(0, len(names), 128):\n",
    "    embedding_list += embeddings.embed_documents(names[i:i+128])\n",
    "institutions[\"embedding\"] = embedding_list\n",
    "\n",
    "for institution in tqdm.tqdm(institutions.to_dict(orient=\"records\")):\n",
    "    institution = deepcopy(institution)\n",
    "    \n",
    "    embedding = institution.pop(\"embedding\")\n",
    "    id = str(institution[\"institution_id\"])\n",
    "\n",
    "    institution = {k: v for k, v in institution.items() if v != None}\n",
    "    index.upsert(\n",
    "        vectors=[ { \"id\": id, \"values\": embedding, \"metadata\": institution } ],\n",
    "        namespace=\"institution_name\"\n",
    "    )"
   ]
  },
  {
   "cell_type": "code",
   "execution_count": null,
   "id": "6ac3e907",
   "metadata": {},
   "outputs": [],
   "source": [
    "names = fields[\"field_name\"].tolist()\n",
    "embedding_list = []\n",
    "for i in tqdm.trange(0, len(names), 128):\n",
    "    embedding_list += embeddings.embed_documents(names[i:i+128])\n",
    "fields[\"embedding\"] = embedding_list\n",
    "\n",
    "for field in tqdm.tqdm(fields.to_dict(orient=\"records\")):\n",
    "    field = deepcopy(field)\n",
    "    embedding = field.pop(\"embedding\")\n",
    "    id = str(field[\"field_id\"])\n",
    "\t\n",
    "    field = {k: v for k, v in field.items() if v != None}\n",
    "    index.upsert(\n",
    "        vectors=[ { \"id\": id, \"values\": embedding, \"metadata\": field } ],\n",
    "        namespace=\"field_name\"\n",
    "    )"
   ]
  }
 ],
 "metadata": {
  "kernelspec": {
   "display_name": "sciscigpt",
   "language": "python",
   "name": "python3"
  },
  "language_info": {
   "codemirror_mode": {
    "name": "ipython",
    "version": 3
   },
   "file_extension": ".py",
   "mimetype": "text/x-python",
   "name": "python",
   "nbconvert_exporter": "python",
   "pygments_lexer": "ipython3",
   "version": "3.11.13"
  }
 },
 "nbformat": 4,
 "nbformat_minor": 5
}
