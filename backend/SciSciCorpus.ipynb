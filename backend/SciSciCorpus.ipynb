{
 "cells": [
  {
   "cell_type": "code",
   "execution_count": 2,
   "id": "51610747",
   "metadata": {},
   "outputs": [],
   "source": [
    "import pandas as pd\n",
    "import datasets\n",
    "import tqdm, os\n",
    "from collections.abc import Iterable\n",
    "from langchain_core.documents.base import Document\n",
    "\n",
    "from datetime import datetime\n",
    "from copy import deepcopy\n",
    "\n",
    "from dotenv import load_dotenv\n",
    "load_dotenv()\n",
    "\n",
    "huggingface_path = \"ErzhuoShao/SciSciGPT-SciSciCorpus\"\n",
    "revision = \"475c99a8c2afab3c6a7e2e936d8b44c0137437b3\"\n",
    "sciscicorpus = datasets.load_dataset(\n",
    "\thuggingface_path, split=\"train\", revision=revision\n",
    ").to_pandas()[:100]"
   ]
  },
  {
   "cell_type": "code",
   "execution_count": 3,
   "id": "43cd32fd",
   "metadata": {},
   "outputs": [],
   "source": [
    "def filter_nan(d):\n",
    "    d2 = {}\n",
    "    for k, v in d.items():\n",
    "        if k in ['section_summary', 'abstract', 'section_text_token_count']:\n",
    "            continue\n",
    "        if k in ['section_text']:\n",
    "            d2[\"text\"] = v[:25000]\n",
    "            continue\n",
    "        if k == \"section_id\":\n",
    "            d2[\"section_id\"] = int(v)\n",
    "            continue\n",
    "\n",
    "        if k == \"date\":\n",
    "            if type(v) == str:\n",
    "                d2[\"date\"] = v\n",
    "                d2[\"year\"] = int(v.split(\"-\")[0])\n",
    "            continue\n",
    "\n",
    "        if k == \"author\":\n",
    "            if type(v) == str:\n",
    "                d2[\"author\"] = v\n",
    "                authors = v.split(\" and \")\n",
    "                for i in authors:\n",
    "                    author_name = \" \".join(i.split(\", \")[::-1])\n",
    "                    d2[\"author: {}\".format(author_name)] = True\n",
    "            continue\n",
    "        \n",
    "        if k == \"embedding\":\n",
    "            d2[k] = v\n",
    "            continue\n",
    "\n",
    "        if k in [\"urldate\", \"number\"]:\n",
    "            continue\n",
    "\n",
    "        if pd.isna(v):\n",
    "            continue\n",
    "        \n",
    "        else:\n",
    "            d2[k] = v\n",
    "\n",
    "        if k == \"authors\":\n",
    "            d2[\"authors\"] = [' '.join(i.split(', ')[::-1]) for i in v.split(\" and \")]\n",
    "    return d2\n",
    "\n",
    "documents = [Document(page_content=i['section_summary'], metadata=filter_nan(i)) for i in sciscicorpus.to_dict('records')]"
   ]
  },
  {
   "cell_type": "code",
   "execution_count": 4,
   "id": "ef7fa064",
   "metadata": {},
   "outputs": [
    {
     "name": "stderr",
     "output_type": "stream",
     "text": [
      "100%|██████████| 1/1 [00:01<00:00,  1.22s/it]\n"
     ]
    }
   ],
   "source": [
    "from langchain_openai import OpenAIEmbeddings\n",
    "embeddings = OpenAIEmbeddings(model=\"text-embedding-3-large\")\n",
    "\n",
    "page_contents = [i.page_content for i in documents]\n",
    "embedding_list = []\n",
    "for i in tqdm.trange(0, len(documents), 128):\n",
    "    embedding_list += embeddings.embed_documents(page_contents[i:i+128])\n",
    "sciscicorpus[\"embedding\"] = embedding_list"
   ]
  },
  {
   "cell_type": "code",
   "execution_count": 5,
   "id": "58a563a7",
   "metadata": {},
   "outputs": [],
   "source": [
    "from pinecone import Pinecone\n",
    "pc = Pinecone()\n",
    "\n",
    "sciscicorpus_index = os.getenv(\"SCISCICORPUS_INDEX\")\n",
    "sciscicorpus_namespace = os.getenv(\"SCISCICORPUS_NAMESPACE\")\n",
    "index = pc.Index(sciscicorpus_index)"
   ]
  },
  {
   "cell_type": "code",
   "execution_count": 6,
   "id": "d6b94456",
   "metadata": {},
   "outputs": [
    {
     "name": "stderr",
     "output_type": "stream",
     "text": [
      "100%|██████████| 100/100 [00:14<00:00,  6.87it/s]\n"
     ]
    }
   ],
   "source": [
    "for i in tqdm.trange(len(documents)):\n",
    "    document = deepcopy(documents[i])\n",
    "    embedding = document.metadata.pop(\"embedding\")\n",
    "    url = document.metadata['url']\n",
    "\n",
    "    index.upsert(\n",
    "        vectors=[\n",
    "            {\n",
    "                \"id\": document.metadata['url'] + '::' + str(document.metadata['section_id']),\n",
    "                \"values\": embedding,\n",
    "                \"metadata\": document.metadata\n",
    "            }\n",
    "        ],\n",
    "        namespace=sciscicorpus_namespace\n",
    "    )"
   ]
  },
  {
   "cell_type": "code",
   "execution_count": null,
   "id": "23cca141",
   "metadata": {},
   "outputs": [],
   "source": []
  }
 ],
 "metadata": {
  "kernelspec": {
   "display_name": "sciscigpt",
   "language": "python",
   "name": "python3"
  },
  "language_info": {
   "codemirror_mode": {
    "name": "ipython",
    "version": 3
   },
   "file_extension": ".py",
   "mimetype": "text/x-python",
   "name": "python",
   "nbconvert_exporter": "python",
   "pygments_lexer": "ipython3",
   "version": "3.11.13"
  }
 },
 "nbformat": 4,
 "nbformat_minor": 5
}
