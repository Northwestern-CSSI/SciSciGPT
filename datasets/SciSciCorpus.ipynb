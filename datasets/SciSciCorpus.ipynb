{
 "cells": [
  {
   "cell_type": "code",
   "execution_count": null,
   "id": "51610747",
   "metadata": {},
   "outputs": [
    {
     "data": {
      "application/vnd.jupyter.widget-view+json": {
       "model_id": "e599e956e7904bbc8afca3a95d334626",
       "version_major": 2,
       "version_minor": 0
      },
      "text/plain": [
       "README.md: 0.00B [00:00, ?B/s]"
      ]
     },
     "metadata": {},
     "output_type": "display_data"
    },
    {
     "data": {
      "application/vnd.jupyter.widget-view+json": {
       "model_id": "4d2e0a02c6474967b2ab2d931f9169a2",
       "version_major": 2,
       "version_minor": 0
      },
      "text/plain": [
       "train-00000-of-00002.parquet:   0%|          | 0.00/247M [00:00<?, ?B/s]"
      ]
     },
     "metadata": {},
     "output_type": "display_data"
    },
    {
     "data": {
      "application/vnd.jupyter.widget-view+json": {
       "model_id": "faff9a38a0c74c8b91c74ea88dd6b1ab",
       "version_major": 2,
       "version_minor": 0
      },
      "text/plain": [
       "train-00001-of-00002.parquet:   0%|          | 0.00/248M [00:00<?, ?B/s]"
      ]
     },
     "metadata": {},
     "output_type": "display_data"
    },
    {
     "data": {
      "application/vnd.jupyter.widget-view+json": {
       "model_id": "7ce6f2b68fca4e6f8e29c1ff3f56d9a6",
       "version_major": 2,
       "version_minor": 0
      },
      "text/plain": [
       "Generating train split:   0%|          | 0/24946 [00:00<?, ? examples/s]"
      ]
     },
     "metadata": {},
     "output_type": "display_data"
    },
    {
     "name": "stdout",
     "output_type": "stream",
     "text": [
      "CPU times: user 7.6 s, sys: 12.2 s, total: 19.8 s\n",
      "Wall time: 13.5 s\n"
     ]
    }
   ],
   "source": [
    "import pandas as pd\n",
    "import datasets\n",
    "import tqdm, os\n",
    "from collections.abc import Iterable\n",
    "from langchain_core.documents.base import Document\n",
    "\n",
    "from datetime import datetime\n",
    "from copy import deepcopy\n",
    "\n",
    "huggingface_path = \"ErzhuoShao/SciSciGPT-SciSciCorpus:475c99a8c2afab3c6a7e2e936d8b44c0137437b3\"\n",
    "sciscicorpus = datasets.load_dataset(huggingface_path, split=\"train\").to_pandas()"
   ]
  },
  {
   "cell_type": "code",
   "execution_count": null,
   "id": "43cd32fd",
   "metadata": {},
   "outputs": [],
   "source": [
    "def filter_nan(d):\n",
    "    d2 = {}\n",
    "    for k, v in d.items():\n",
    "        if k in ['section_summary', 'abstract', 'section_text_token_count']:\n",
    "            continue\n",
    "        if k in ['section_text']:\n",
    "            d2[\"text\"] = v[:25000]\n",
    "            continue\n",
    "        if k == \"section_id\":\n",
    "            d2[\"section_id\"] = int(v)\n",
    "            continue\n",
    "\n",
    "        if k == \"date\":\n",
    "            if type(v) == str:\n",
    "                d2[\"date\"] = v\n",
    "                d2[\"year\"] = int(v.split(\"-\")[0])\n",
    "            continue\n",
    "\n",
    "        if k == \"author\":\n",
    "            if type(v) == str:\n",
    "                d2[\"author\"] = v\n",
    "                authors = v.split(\" and \")\n",
    "                for i in authors:\n",
    "                    author_name = \" \".join(i.split(\", \")[::-1])\n",
    "                    d2[\"author: {}\".format(author_name)] = True\n",
    "            continue\n",
    "        \n",
    "        if k == \"embedding\":\n",
    "            d2[k] = v\n",
    "            continue\n",
    "\n",
    "        if k in [\"urldate\", \"number\"]:\n",
    "            continue\n",
    "\n",
    "        if pd.isna(v):\n",
    "            continue\n",
    "        \n",
    "        else:\n",
    "            d2[k] = v\n",
    "\n",
    "        if k == \"authors\":\n",
    "            d2[\"authors\"] = [' '.join(i.split(', ')[::-1]) for i in v.split(\" and \")]\n",
    "    return d2\n",
    "\n",
    "documents = [Document(page_content=i['section_summary'], metadata=filter_nan(i)) for i in sciscicorpus.to_dict('records')]"
   ]
  },
  {
   "cell_type": "code",
   "execution_count": null,
   "id": "ef7fa064",
   "metadata": {},
   "outputs": [],
   "source": [
    "from langchain_openai import OpenAIEmbeddings\n",
    "\n",
    "openai_api_key = input(\"Please enter your OpenAI API key: \")\n",
    "embeddings = OpenAIEmbeddings(model=\"text-embedding-3-large\", api_key=openai_api_key)\n",
    "\n",
    "page_contents = [i.page_content for i in documents]\n",
    "embedding_list = []\n",
    "for i in tqdm.trange(0, len(documents), 128):\n",
    "    embedding_list += embeddings.embed_documents(page_contents[i:i+128])\n",
    "sciscicorpus[\"embedding\"] = embedding_list"
   ]
  },
  {
   "cell_type": "code",
   "execution_count": null,
   "id": "58a563a7",
   "metadata": {},
   "outputs": [],
   "source": [
    "from pinecone import Pinecone\n",
    "pc = Pinecone()\n",
    "\n",
    "pinecone_index_name = \"SciSciCorpus\"\n",
    "pinecone_namespace = datetime.now().strftime(\"%m%d%Y\")\n",
    "\n",
    "index = pc.Index(pinecone_index_name)"
   ]
  },
  {
   "cell_type": "code",
   "execution_count": null,
   "id": "d6b94456",
   "metadata": {},
   "outputs": [
    {
     "name": "stderr",
     "output_type": "stream",
     "text": [
      "  0%|          | 0/22328 [00:00<?, ?it/s]"
     ]
    },
    {
     "name": "stderr",
     "output_type": "stream",
     "text": [
      "100%|██████████| 22328/22328 [35:16<00:00, 10.55it/s] \n"
     ]
    }
   ],
   "source": [
    "for i in tqdm.trange(len(documents)):\n",
    "    document = deepcopy(documents[i])\n",
    "    embedding = document.metadata.pop(\"embedding\")\n",
    "    url = document.metadata['url']\n",
    "\n",
    "    index.upsert(\n",
    "        vectors=[\n",
    "            {\n",
    "                \"id\": document.metadata['url'] + '::' + str(document.metadata['section_id']),\n",
    "                \"values\": embedding,\n",
    "                \"metadata\": document.metadata\n",
    "            }\n",
    "        ],\n",
    "        namespace=pinecone_namespace\n",
    "    )"
   ]
  }
 ],
 "metadata": {
  "kernelspec": {
   "display_name": "sciscigpt-prod",
   "language": "python",
   "name": "python3"
  },
  "language_info": {
   "codemirror_mode": {
    "name": "ipython",
    "version": 3
   },
   "file_extension": ".py",
   "mimetype": "text/x-python",
   "name": "python",
   "nbconvert_exporter": "python",
   "pygments_lexer": "ipython3",
   "version": "3.12.7"
  }
 },
 "nbformat": 4,
 "nbformat_minor": 5
}
